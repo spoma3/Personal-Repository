{
  "cells": [
    {
      "cell_type": "code",
      "execution_count": 1,
      "metadata": {
        "id": "dfYArgTEWMuz",
        "colab": {
          "base_uri": "https://localhost:8080/"
        },
        "outputId": "99243a06-a963-4c5f-a393-fdcdb55856dc"
      },
      "outputs": [
        {
          "output_type": "stream",
          "name": "stdout",
          "text": [
            "Collecting ddgs\n",
            "  Downloading ddgs-9.5.4-py3-none-any.whl.metadata (18 kB)\n",
            "Requirement already satisfied: click>=8.1.8 in /usr/local/lib/python3.12/dist-packages (from ddgs) (8.2.1)\n",
            "Collecting primp>=0.15.0 (from ddgs)\n",
            "  Downloading primp-0.15.0-cp38-abi3-manylinux_2_17_x86_64.manylinux2014_x86_64.whl.metadata (13 kB)\n",
            "Collecting lxml>=6.0.0 (from ddgs)\n",
            "  Downloading lxml-6.0.1-cp312-cp312-manylinux_2_26_x86_64.manylinux_2_28_x86_64.whl.metadata (3.8 kB)\n",
            "Downloading ddgs-9.5.4-py3-none-any.whl (37 kB)\n",
            "Downloading lxml-6.0.1-cp312-cp312-manylinux_2_26_x86_64.manylinux_2_28_x86_64.whl (5.3 MB)\n",
            "\u001b[2K   \u001b[90m━━━━━━━━━━━━━━━━━━━━━━━━━━━━━━━━━━━━━━━━\u001b[0m \u001b[32m5.3/5.3 MB\u001b[0m \u001b[31m37.5 MB/s\u001b[0m eta \u001b[36m0:00:00\u001b[0m\n",
            "\u001b[?25hDownloading primp-0.15.0-cp38-abi3-manylinux_2_17_x86_64.manylinux2014_x86_64.whl (3.3 MB)\n",
            "\u001b[2K   \u001b[90m━━━━━━━━━━━━━━━━━━━━━━━━━━━━━━━━━━━━━━━━\u001b[0m \u001b[32m3.3/3.3 MB\u001b[0m \u001b[31m21.4 MB/s\u001b[0m eta \u001b[36m0:00:00\u001b[0m\n",
            "\u001b[?25hInstalling collected packages: primp, lxml, ddgs\n",
            "  Attempting uninstall: lxml\n",
            "    Found existing installation: lxml 5.4.0\n",
            "    Uninstalling lxml-5.4.0:\n",
            "      Successfully uninstalled lxml-5.4.0\n",
            "Successfully installed ddgs-9.5.4 lxml-6.0.1 primp-0.15.0\n",
            "Requirement already satisfied: transformers in /usr/local/lib/python3.12/dist-packages (4.55.4)\n",
            "Requirement already satisfied: filelock in /usr/local/lib/python3.12/dist-packages (from transformers) (3.19.1)\n",
            "Requirement already satisfied: huggingface-hub<1.0,>=0.34.0 in /usr/local/lib/python3.12/dist-packages (from transformers) (0.34.4)\n",
            "Requirement already satisfied: numpy>=1.17 in /usr/local/lib/python3.12/dist-packages (from transformers) (2.0.2)\n",
            "Requirement already satisfied: packaging>=20.0 in /usr/local/lib/python3.12/dist-packages (from transformers) (25.0)\n",
            "Requirement already satisfied: pyyaml>=5.1 in /usr/local/lib/python3.12/dist-packages (from transformers) (6.0.2)\n",
            "Requirement already satisfied: regex!=2019.12.17 in /usr/local/lib/python3.12/dist-packages (from transformers) (2024.11.6)\n",
            "Requirement already satisfied: requests in /usr/local/lib/python3.12/dist-packages (from transformers) (2.32.4)\n",
            "Requirement already satisfied: tokenizers<0.22,>=0.21 in /usr/local/lib/python3.12/dist-packages (from transformers) (0.21.4)\n",
            "Requirement already satisfied: safetensors>=0.4.3 in /usr/local/lib/python3.12/dist-packages (from transformers) (0.6.2)\n",
            "Requirement already satisfied: tqdm>=4.27 in /usr/local/lib/python3.12/dist-packages (from transformers) (4.67.1)\n",
            "Requirement already satisfied: fsspec>=2023.5.0 in /usr/local/lib/python3.12/dist-packages (from huggingface-hub<1.0,>=0.34.0->transformers) (2025.3.0)\n",
            "Requirement already satisfied: typing-extensions>=3.7.4.3 in /usr/local/lib/python3.12/dist-packages (from huggingface-hub<1.0,>=0.34.0->transformers) (4.15.0)\n",
            "Requirement already satisfied: hf-xet<2.0.0,>=1.1.3 in /usr/local/lib/python3.12/dist-packages (from huggingface-hub<1.0,>=0.34.0->transformers) (1.1.8)\n",
            "Requirement already satisfied: charset_normalizer<4,>=2 in /usr/local/lib/python3.12/dist-packages (from requests->transformers) (3.4.3)\n",
            "Requirement already satisfied: idna<4,>=2.5 in /usr/local/lib/python3.12/dist-packages (from requests->transformers) (3.10)\n",
            "Requirement already satisfied: urllib3<3,>=1.21.1 in /usr/local/lib/python3.12/dist-packages (from requests->transformers) (2.5.0)\n",
            "Requirement already satisfied: certifi>=2017.4.17 in /usr/local/lib/python3.12/dist-packages (from requests->transformers) (2025.8.3)\n"
          ]
        }
      ],
      "source": [
        "!pip install ddgs\n",
        "!pip install transformers"
      ]
    },
    {
      "cell_type": "code",
      "execution_count": 2,
      "metadata": {
        "id": "Z60gAaKaRZpl"
      },
      "outputs": [],
      "source": [
        "from ddgs import DDGS\n",
        "from transformers import pipeline, AutoTokenizer, AutoModelForQuestionAnswering\n",
        "import re\n",
        "import warnings\n",
        "import numpy as np\n",
        "warnings.simplefilter(\"ignore\", category=FutureWarning)"
      ]
    },
    {
      "cell_type": "code",
      "execution_count": 3,
      "metadata": {
        "id": "XA8t0yBp3jMK"
      },
      "outputs": [],
      "source": [
        "def scan_prices(prompt, val, item):\n",
        "  ddgs = DDGS()\n",
        "  results = list(ddgs.text(query=prompt, results = val))\n",
        "  info = []\n",
        "  urls = []\n",
        "  for i in results:\n",
        "    text = \" \".join(f\"{key} {value}\" for key, value in i.items())\n",
        "    currency_symbols = r'[$€£¥₣]'\n",
        "    extracted_text = re.findall(fr'[^;\\n]*?{currency_symbols}\\d[\\d,.]*[^;\\n]*', text)\n",
        "    for j in extracted_text:\n",
        "      if (j.strip()):\n",
        "        j = j.lower()\n",
        "        info.append(j)\n",
        "        urls.append(i.get(\"href\", \"\"))\n",
        "  return info, urls"
      ]
    },
    {
      "cell_type": "code",
      "execution_count": 4,
      "metadata": {
        "id": "f0N5jjuXTV-1"
      },
      "outputs": [],
      "source": [
        "def load_model():\n",
        "  bert_model_name = \"deepset/roberta-base-squad2\"\n",
        "  bert_model = AutoModelForQuestionAnswering.from_pretrained(bert_model_name)\n",
        "  bert_tokenizer = AutoTokenizer.from_pretrained(bert_model_name)\n",
        "  bert_qa = pipeline(\"question-answering\", model = bert_model, tokenizer = bert_tokenizer)\n",
        "  return bert_qa"
      ]
    },
    {
      "cell_type": "code",
      "execution_count": 5,
      "metadata": {
        "id": "VzgFYmX1DwGV",
        "colab": {
          "base_uri": "https://localhost:8080/"
        },
        "outputId": "f6b4a093-a89b-4542-c57a-b3baeddf59b3"
      },
      "outputs": [
        {
          "output_type": "stream",
          "name": "stdout",
          "text": [
            "{'$': 1}\n"
          ]
        }
      ],
      "source": [
        "exchange_rates = {}\n",
        "exchange_rates['$'] = 1\n",
        "currencies = ['€','£','¥','₣']\n",
        "for currency in currencies:\n",
        "  query = f\"conversion of {currency} to USD\"\n",
        "  ddgs = DDGS()\n",
        "  results = list(ddgs.text(query=query, results = 5))\n",
        "  for i in results:\n",
        "    for key, value in i.items():\n",
        "      if isinstance(value, str):\n",
        "        match = re.search(fr'1\\s+{currency.upper()}\\s*=\\s*([\\d.]+)\\s*USD', value)\n",
        "        if match:\n",
        "          exchange_rate = float(match.group(1))\n",
        "          exchange_rates[currency] = exchange_rate\n",
        "print(exchange_rates)"
      ]
    },
    {
      "cell_type": "code",
      "source": [
        "def isfloat(val):\n",
        "  try:\n",
        "    float(val)\n",
        "    return True\n",
        "  except Exception as e:\n",
        "    return False"
      ],
      "metadata": {
        "id": "FKHJ-UTpii2K"
      },
      "execution_count": 6,
      "outputs": []
    },
    {
      "cell_type": "code",
      "source": [
        "exchange_rates = {}\n",
        "exchange_rates['$'] = 1\n",
        "currencies = ['€','£','¥','₣']\n",
        "bert_qa = load_model()\n",
        "ddgs = DDGS()\n",
        "for currency in currencies:\n",
        "  prompt = f\"conversion of {currency} to USD\"\n",
        "  results = list(ddgs.text(query=prompt, results = 5))\n",
        "  prompt = \"what is the numerical exchange rate of CHF to USD\"\n",
        "  answers = []\n",
        "  answer_scores = []\n",
        "  for result in results:\n",
        "    # Convert results to string not dictionary\n",
        "    text = \" \".join(f\"{key} {value}, \" for key, value in result.items() if (currency in str(value)))\n",
        "    if (not text.strip()):\n",
        "      continue\n",
        "    answer = bert_qa(prompt, text)\n",
        "    if (isfloat(answer['answer']) == True):\n",
        "      answers.append(answer['answer'])\n",
        "      answer_scores.append(answer['score'])\n",
        "      print(f\"answer for {currency} to USD is: {answer['answer']}\")\n",
        "      print(f\"score is: {answer['score']}\")\n",
        "      exchange_rates[currency] = float(answer['answer'])\n",
        "# print(\"answers is: \", answers)\n",
        "# print(\"answer_scores are: \", answer_scores)\n",
        "# print(\"conversion rate confidence score is: \", max(answer_scores))\n",
        "# print(\"conversion rate is: \", answers[np.argmax(answer_scores)])"
      ],
      "metadata": {
        "colab": {
          "base_uri": "https://localhost:8080/"
        },
        "id": "HluGbM6qc4su",
        "outputId": "c3157f95-b4f2-4caa-f4ed-009809b7046b"
      },
      "execution_count": 10,
      "outputs": [
        {
          "output_type": "stream",
          "name": "stderr",
          "text": [
            "Device set to use cpu\n"
          ]
        },
        {
          "output_type": "stream",
          "name": "stdout",
          "text": [
            "answer for £ to USD is: 52.06\n",
            "score is: 2.5755733531696023e-05\n"
          ]
        }
      ]
    },
    {
      "cell_type": "code",
      "execution_count": 11,
      "metadata": {
        "id": "iSnI6jM0qhGH"
      },
      "outputs": [],
      "source": [
        "def extract_prices_with_symbols(text):\n",
        "  matches = re.findall(r'([$€£¥₣])\\s?\\d[\\d,]*\\.?\\d*', text)\n",
        "  return matches"
      ]
    },
    {
      "cell_type": "code",
      "execution_count": 12,
      "metadata": {
        "id": "2lZ2fClUUyCo",
        "colab": {
          "base_uri": "https://localhost:8080/",
          "height": 637
        },
        "outputId": "be9dfaf0-ae45-411e-ad68-407aca62dc72"
      },
      "outputs": [
        {
          "name": "stdout",
          "output_type": "stream",
          "text": [
            "What object's price do you want to look for?pens\n"
          ]
        },
        {
          "output_type": "stream",
          "name": "stderr",
          "text": [
            "Device set to use cpu\n"
          ]
        },
        {
          "name": "stdout",
          "output_type": "stream",
          "text": [
            "How expansive of a search do you want?10\n",
            "Could not find any reliable answers\n",
            "What object's price do you want to look for?pencils\n"
          ]
        },
        {
          "output_type": "stream",
          "name": "stderr",
          "text": [
            "Device set to use cpu\n"
          ]
        },
        {
          "output_type": "stream",
          "name": "stdout",
          "text": [
            "How expansive of a search do you want?10\n",
            "answer is: $ 0.28 per pencil\n",
            "url is: https://brainly.com/question/2044452\n",
            "score is: 0.7671781778335571\n",
            "answer is: $0.27\n",
            "url is: https://brainly.com/question/3208137\n",
            "score is: 0.8358449339866638\n",
            "answers are:  ['$ 0.28 per pencil', '$0.27']\n",
            "urls are ['https://brainly.com/question/2044452', 'https://www.gauthmath.com/solution/1813032697269413/If-6-pencils-cost-1-80-what-is-the-unit-price-of-the-pencils-The-unit-price-is-s', 'https://brainly.com/question/3208137', 'https://www.reddit.com/r/pencils/comments/10pbuod/cost_per_pencil_what_do_you_consider_to_be_a_deal/', 'https://www.wyzant.com/resources/answers/259483/it_costs_3_24_for_a_pack_of_12_pencils_find_the_unit_price_in_dollars_per_pencil_if_necessary_round_your_answer_to_the_nearest_cent', 'https://www.gauthmath.com/solution/1812002346497030/A-pack-of-20-pencils-5-costs-4-80-What-is-the-unit-price-per-pencil-', 'https://www.quora.com/9-pens-and-5-pencils-cost-3-2-and-7-pens-and-8-pencils-costs-2-9-What-is-the-unit-price-for-each-pen-and-pencil', 'https://www.chegg.com/homework-help/questions-and-answers/whats-unit-price-per-pencils-spend-315-pack-15-pencils-q104682809', 'https://quizlet.com/explanations/questions/find-unit-price-8-pencils-for-224-c0537f33-244b-4498-9519-f5b63428bd8d', 'https://sameday.dollartree.com/store/dollar-tree/collections/n-pens-pencils-3164/subjects/n11973442604006980-pencils-70819']\n"
          ]
        },
        {
          "output_type": "error",
          "ename": "KeyboardInterrupt",
          "evalue": "Interrupted by user",
          "traceback": [
            "\u001b[0;31m---------------------------------------------------------------------------\u001b[0m",
            "\u001b[0;31mKeyboardInterrupt\u001b[0m                         Traceback (most recent call last)",
            "\u001b[0;32m/tmp/ipython-input-1886345393.py\u001b[0m in \u001b[0;36m<cell line: 0>\u001b[0;34m()\u001b[0m\n\u001b[1;32m      1\u001b[0m \u001b[0;32mwhile\u001b[0m \u001b[0;32mTrue\u001b[0m\u001b[0;34m:\u001b[0m\u001b[0;34m\u001b[0m\u001b[0;34m\u001b[0m\u001b[0m\n\u001b[0;32m----> 2\u001b[0;31m   \u001b[0mitem\u001b[0m \u001b[0;34m=\u001b[0m \u001b[0minput\u001b[0m\u001b[0;34m(\u001b[0m\u001b[0;34m\"What object's price do you want to look for?\"\u001b[0m\u001b[0;34m)\u001b[0m\u001b[0;34m\u001b[0m\u001b[0;34m\u001b[0m\u001b[0m\n\u001b[0m\u001b[1;32m      3\u001b[0m   \u001b[0mprompt\u001b[0m \u001b[0;34m=\u001b[0m \u001b[0;34mf\"What is the unit price of {item}?\"\u001b[0m\u001b[0;34m\u001b[0m\u001b[0;34m\u001b[0m\u001b[0m\n\u001b[1;32m      4\u001b[0m   \u001b[0mbert_qa\u001b[0m \u001b[0;34m=\u001b[0m \u001b[0mload_model\u001b[0m\u001b[0;34m(\u001b[0m\u001b[0;34m)\u001b[0m\u001b[0;34m\u001b[0m\u001b[0;34m\u001b[0m\u001b[0m\n\u001b[1;32m      5\u001b[0m   \u001b[0mx\u001b[0m \u001b[0;34m=\u001b[0m \u001b[0;32mTrue\u001b[0m\u001b[0;34m\u001b[0m\u001b[0;34m\u001b[0m\u001b[0m\n",
            "\u001b[0;32m/usr/local/lib/python3.12/dist-packages/ipykernel/kernelbase.py\u001b[0m in \u001b[0;36mraw_input\u001b[0;34m(self, prompt)\u001b[0m\n\u001b[1;32m   1175\u001b[0m                 \u001b[0;34m\"raw_input was called, but this frontend does not support input requests.\"\u001b[0m\u001b[0;34m\u001b[0m\u001b[0;34m\u001b[0m\u001b[0m\n\u001b[1;32m   1176\u001b[0m             )\n\u001b[0;32m-> 1177\u001b[0;31m         return self._input_request(\n\u001b[0m\u001b[1;32m   1178\u001b[0m             \u001b[0mstr\u001b[0m\u001b[0;34m(\u001b[0m\u001b[0mprompt\u001b[0m\u001b[0;34m)\u001b[0m\u001b[0;34m,\u001b[0m\u001b[0;34m\u001b[0m\u001b[0;34m\u001b[0m\u001b[0m\n\u001b[1;32m   1179\u001b[0m             \u001b[0mself\u001b[0m\u001b[0;34m.\u001b[0m\u001b[0m_parent_ident\u001b[0m\u001b[0;34m[\u001b[0m\u001b[0;34m\"shell\"\u001b[0m\u001b[0;34m]\u001b[0m\u001b[0;34m,\u001b[0m\u001b[0;34m\u001b[0m\u001b[0;34m\u001b[0m\u001b[0m\n",
            "\u001b[0;32m/usr/local/lib/python3.12/dist-packages/ipykernel/kernelbase.py\u001b[0m in \u001b[0;36m_input_request\u001b[0;34m(self, prompt, ident, parent, password)\u001b[0m\n\u001b[1;32m   1217\u001b[0m             \u001b[0;32mexcept\u001b[0m \u001b[0mKeyboardInterrupt\u001b[0m\u001b[0;34m:\u001b[0m\u001b[0;34m\u001b[0m\u001b[0;34m\u001b[0m\u001b[0m\n\u001b[1;32m   1218\u001b[0m                 \u001b[0;31m# re-raise KeyboardInterrupt, to truncate traceback\u001b[0m\u001b[0;34m\u001b[0m\u001b[0;34m\u001b[0m\u001b[0m\n\u001b[0;32m-> 1219\u001b[0;31m                 \u001b[0;32mraise\u001b[0m \u001b[0mKeyboardInterrupt\u001b[0m\u001b[0;34m(\u001b[0m\u001b[0;34m\"Interrupted by user\"\u001b[0m\u001b[0;34m)\u001b[0m \u001b[0;32mfrom\u001b[0m \u001b[0;32mNone\u001b[0m\u001b[0;34m\u001b[0m\u001b[0;34m\u001b[0m\u001b[0m\n\u001b[0m\u001b[1;32m   1220\u001b[0m             \u001b[0;32mexcept\u001b[0m \u001b[0mException\u001b[0m\u001b[0;34m:\u001b[0m\u001b[0;34m\u001b[0m\u001b[0;34m\u001b[0m\u001b[0m\n\u001b[1;32m   1221\u001b[0m                 \u001b[0mself\u001b[0m\u001b[0;34m.\u001b[0m\u001b[0mlog\u001b[0m\u001b[0;34m.\u001b[0m\u001b[0mwarning\u001b[0m\u001b[0;34m(\u001b[0m\u001b[0;34m\"Invalid Message:\"\u001b[0m\u001b[0;34m,\u001b[0m \u001b[0mexc_info\u001b[0m\u001b[0;34m=\u001b[0m\u001b[0;32mTrue\u001b[0m\u001b[0;34m)\u001b[0m\u001b[0;34m\u001b[0m\u001b[0;34m\u001b[0m\u001b[0m\n",
            "\u001b[0;31mKeyboardInterrupt\u001b[0m: Interrupted by user"
          ]
        }
      ],
      "source": [
        "while True:\n",
        "  item = input(\"What object's price do you want to look for?\")\n",
        "  prompt = f\"What is the unit price of {item}?\"\n",
        "  bert_qa = load_model()\n",
        "  x = True\n",
        "  while (x):\n",
        "    val = input(\"How expansive of a search do you want?\")\n",
        "    if (val.isdigit() == True):\n",
        "      val = int(val)\n",
        "      x = False\n",
        "    else:\n",
        "      val = input(\"Please enter a valid search number\")\n",
        "  info, urls = scan_prices(prompt, val, item)\n",
        "  answers = []\n",
        "  url_answers = []\n",
        "  for count, i in enumerate(info):\n",
        "    context = i\n",
        "    answer = bert_qa(prompt, context)\n",
        "    if (answer['score'] > 0.70):\n",
        "      answers.append(answer[\"answer\"])\n",
        "      print(f\"answer is: {answer['answer']}\")\n",
        "      print(f\"url is: {urls[count]}\")\n",
        "      print(f\"score is: {answer['score']}\")\n",
        "      url_answers.append(urls[count])\n",
        "  # prices = []\n",
        "  # for ans in answers:\n",
        "  #   matches = extract_prices_with_symbols(ans)\n",
        "  #   for match in matches:\n",
        "  #     amount = exchange_rates[match[0]]\n",
        "  #     price = float(match[0]) * amount\n",
        "  #     prices.append(price)\n",
        "  if (len(answers) > 0):\n",
        "    print(\"answers are: \", answers)\n",
        "    # print(f\"price range is: {min(prices)}-{max(prices)}\")\n",
        "    print(f\"urls are {urls}\")\n",
        "  else:\n",
        "    print(\"Could not find any reliable answers\")"
      ]
    }
  ],
  "metadata": {
    "colab": {
      "provenance": []
    },
    "kernelspec": {
      "display_name": "Python 3",
      "name": "python3"
    },
    "language_info": {
      "name": "python"
    }
  },
  "nbformat": 4,
  "nbformat_minor": 0
}