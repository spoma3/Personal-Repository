{
  "cells": [
    {
      "cell_type": "code",
      "execution_count": null,
      "metadata": {
        "id": "oZEqVj8ZZJUv"
      },
      "outputs": [],
      "source": [
        "import numpy as np\n",
        "from random import randint\n",
        "from sklearn.utils import shuffle\n",
        "from sklearn.preprocessing import MinMaxScaler\n",
        "from scipy.fft import fft, ifft\n",
        "import tensorflow as tf\n",
        "from tensorflow import keras\n",
        "from keras.utils import to_categorical\n",
        "from keras import models\n",
        "from keras import layers\n",
        "from keras.models import Sequential\n",
        "from keras.layers import Activation, Dense\n",
        "from keras.optimizers import Adam\n",
        "from keras.metrics import categorical_crossentropy\n",
        "from keras.datasets import mnist"
      ]
    },
    {
      "cell_type": "code",
      "execution_count": null,
      "metadata": {
        "colab": {
          "base_uri": "https://localhost:8080/"
        },
        "id": "cUayVY-8c-zA",
        "outputId": "4a030c22-50b9-4e40-ee69-c43018113912"
      },
      "outputs": [
        {
          "name": "stdout",
          "output_type": "stream",
          "text": [
            "(10000, 32, 32, 3)\n",
            "(10000, 100)\n",
            "(50000, 32, 32, 3)\n",
            "(50000, 100)\n"
          ]
        }
      ],
      "source": [
        "(x_train, y_train), (x_test, y_test) = keras.datasets.cifar100.load_data()\n",
        "x_train = (x_train)/255\n",
        "x_test = (x_test)/255\n",
        "#x_train = np.expand_dims(x_train, axis = -1)\n",
        "#x_test = np.expand_dims(x_test, axis = -1)\n",
        "y_train = to_categorical(y_train, num_classes = 100)\n",
        "y_test = to_categorical(y_test, num_classes = 100)\n",
        "print(x_test.shape)\n",
        "print(y_test.shape)\n",
        "print(x_train.shape)\n",
        "print(y_train.shape)"
      ]
    },
    {
      "cell_type": "code",
      "execution_count": null,
      "metadata": {
        "colab": {
          "background_save": true,
          "base_uri": "https://localhost:8080/"
        },
        "id": "Jkt-bswCdeB_",
        "outputId": "296294ab-ac49-4713-e815-8dd30acd6e93"
      },
      "outputs": [
        {
          "name": "stdout",
          "output_type": "stream",
          "text": [
            "1563/1563 [==============================] - 241s 153ms/step - loss: 3.7975 - accuracy: 0.1244 - val_loss: 3.2660 - val_accuracy: 0.2132\n"
          ]
        },
        {
          "data": {
            "text/plain": [
              "<keras.src.callbacks.History at 0x7c0654a0f760>"
            ]
          },
          "execution_count": 8,
          "metadata": {},
          "output_type": "execute_result"
        }
      ],
      "source": [
        "model = models.Sequential()\n",
        "model.add(layers.Conv2D(32, (2,2), activation = 'relu', input_shape = (32,32,3)))\n",
        "model.add(layers.MaxPooling2D(2,2))\n",
        "model.add(layers.Conv2D(16, (2,2), activation = 'relu'))\n",
        "model.add(layers.MaxPooling2D(2,2))\n",
        "model.add(layers.Conv2D(16, (2,2), activation = 'relu'))\n",
        "model.add(layers.MaxPooling2D(2,2))\n",
        "# model.add(layers.Conv2D(16, (3,3), activation = 'relu', input_shape = (32,32,3)))\n",
        "# model.add(layers.MaxPooling2D(3,3))\n",
        "model.add(layers.Flatten())\n",
        "model.add(layers.Dense(100, activation = 'softmax'))\n",
        "model.compile(optimizer = 'adam', loss = 'categorical_crossentropy', metrics = ['accuracy'])\n",
        "model.fit(x_train, y_train, epochs = 2, validation_data = (x_test, y_test))"
      ]
    }
  ],
  "metadata": {
    "colab": {
      "provenance": []
    },
    "kernelspec": {
      "display_name": "Python 3",
      "name": "python3"
    },
    "language_info": {
      "name": "python"
    }
  },
  "nbformat": 4,
  "nbformat_minor": 0
}
